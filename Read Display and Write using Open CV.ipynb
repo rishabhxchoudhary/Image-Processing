{
 "cells": [
  {
   "cell_type": "code",
   "execution_count": 1,
   "id": "4611249b",
   "metadata": {},
   "outputs": [],
   "source": [
    "import numpy as np\n",
    "import cv2"
   ]
  },
  {
   "cell_type": "markdown",
   "id": "468cec39",
   "metadata": {},
   "source": [
    "# Reading an Image\n",
    "To do operations in an image you need to first make an image object.\n",
    "Open CV provides a fuction to read the images\n",
    "\n",
    "## 1.Imread Fuction\n",
    "Takes Filepath as a parameter\n",
    "\n",
    "By default CV2 reads images in BGR Format not RGB Format"
   ]
  },
  {
   "cell_type": "code",
   "execution_count": 2,
   "id": "14268b2f",
   "metadata": {},
   "outputs": [],
   "source": [
    "img = cv2.imread(\"./Images/Tree.jpg\")"
   ]
  },
  {
   "cell_type": "code",
   "execution_count": 3,
   "id": "c7121e71",
   "metadata": {},
   "outputs": [
    {
     "data": {
      "text/plain": [
       "(480, 771, 3)"
      ]
     },
     "execution_count": 3,
     "metadata": {},
     "output_type": "execute_result"
    }
   ],
   "source": [
    "img.shape"
   ]
  },
  {
   "cell_type": "markdown",
   "id": "93f6f02b",
   "metadata": {},
   "source": [
    "# Displaying Images\n"
   ]
  },
  {
   "cell_type": "code",
   "execution_count": 4,
   "id": "da875872",
   "metadata": {},
   "outputs": [],
   "source": [
    "def display(win_name,image):\n",
    "    cv2.imshow(win_name,image)\n",
    "    cv2.waitKey(0) # 0 for infinite time, else it takes time in miliseconds\n",
    "    cv2.destroyAllWindows()"
   ]
  },
  {
   "cell_type": "markdown",
   "id": "b7dd1daf",
   "metadata": {},
   "source": [
    "# Saving / Writing Images"
   ]
  },
  {
   "cell_type": "code",
   "execution_count": 5,
   "id": "2125ea94",
   "metadata": {},
   "outputs": [
    {
     "data": {
      "text/plain": [
       "True"
      ]
     },
     "execution_count": 5,
     "metadata": {},
     "output_type": "execute_result"
    }
   ],
   "source": [
    "cv2.imwrite(\"Example Image.jpg\",img)"
   ]
  },
  {
   "cell_type": "code",
   "execution_count": null,
   "id": "fd10c935",
   "metadata": {},
   "outputs": [],
   "source": []
  }
 ],
 "metadata": {
  "kernelspec": {
   "display_name": "Python 3 (ipykernel)",
   "language": "python",
   "name": "python3"
  },
  "language_info": {
   "codemirror_mode": {
    "name": "ipython",
    "version": 3
   },
   "file_extension": ".py",
   "mimetype": "text/x-python",
   "name": "python",
   "nbconvert_exporter": "python",
   "pygments_lexer": "ipython3",
   "version": "3.9.10"
  }
 },
 "nbformat": 4,
 "nbformat_minor": 5
}
