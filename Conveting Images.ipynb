{
 "cells": [
  {
   "cell_type": "markdown",
   "id": "3a72e67c",
   "metadata": {},
   "source": [
    "# Pixels\n",
    "Images are made up of pixels\n",
    "\n",
    "n bit image = (2^n-1) values\n",
    "\n",
    "8 bit images = 2^8 - 1 = 255"
   ]
  },
  {
   "cell_type": "code",
   "execution_count": 4,
   "id": "23115b40",
   "metadata": {},
   "outputs": [],
   "source": [
    "import numpy as np\n",
    "import cv2"
   ]
  },
  {
   "cell_type": "code",
   "execution_count": 6,
   "id": "f7bd82f2",
   "metadata": {},
   "outputs": [],
   "source": [
    "img = cv2.imread(\"./Images/Tree.jpg\") # Reads the images by default in BGR Format."
   ]
  },
  {
   "cell_type": "markdown",
   "id": "a506580f",
   "metadata": {},
   "source": [
    "# Converting Images"
   ]
  },
  {
   "cell_type": "code",
   "execution_count": 14,
   "id": "73b0b1cc",
   "metadata": {},
   "outputs": [],
   "source": [
    "b,g,r = cv2.split(img)"
   ]
  },
  {
   "cell_type": "code",
   "execution_count": 17,
   "id": "abf05717",
   "metadata": {},
   "outputs": [
    {
     "data": {
      "text/plain": [
       "True"
      ]
     },
     "execution_count": 17,
     "metadata": {},
     "output_type": "execute_result"
    }
   ],
   "source": [
    "cv2.imwrite(\"Blue.png\",b)\n",
    "cv2.imwrite(\"Green.png\",g)\n",
    "cv2.imwrite(\"Red.png\",r)"
   ]
  },
  {
   "cell_type": "code",
   "execution_count": 18,
   "id": "2b2096f0",
   "metadata": {},
   "outputs": [
    {
     "data": {
      "text/plain": [
       "True"
      ]
     },
     "execution_count": 18,
     "metadata": {},
     "output_type": "execute_result"
    }
   ],
   "source": [
    "img_rgb = cv2.cvtColor(img,cv2.COLOR_BGR2RGB)\n",
    "cv2.imwrite(\"RGB.png\",img_rgb)"
   ]
  },
  {
   "cell_type": "code",
   "execution_count": 19,
   "id": "358bddd8",
   "metadata": {},
   "outputs": [
    {
     "data": {
      "text/plain": [
       "True"
      ]
     },
     "execution_count": 19,
     "metadata": {},
     "output_type": "execute_result"
    }
   ],
   "source": [
    "img_gray = cv2.cvtColor(img,cv2.COLOR_BGR2GRAY)\n",
    "cv2.imwrite(\"GRAY.png\",img_gray)"
   ]
  },
  {
   "cell_type": "code",
   "execution_count": null,
   "id": "7885c41b",
   "metadata": {},
   "outputs": [],
   "source": []
  }
 ],
 "metadata": {
  "kernelspec": {
   "display_name": "Python 3 (ipykernel)",
   "language": "python",
   "name": "python3"
  },
  "language_info": {
   "codemirror_mode": {
    "name": "ipython",
    "version": 3
   },
   "file_extension": ".py",
   "mimetype": "text/x-python",
   "name": "python",
   "nbconvert_exporter": "python",
   "pygments_lexer": "ipython3",
   "version": "3.9.10"
  }
 },
 "nbformat": 4,
 "nbformat_minor": 5
}
