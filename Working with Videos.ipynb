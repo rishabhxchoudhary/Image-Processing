{
 "cells": [
  {
   "cell_type": "code",
   "execution_count": 1,
   "id": "3d6b08a2",
   "metadata": {},
   "outputs": [],
   "source": [
    "import numpy as np, cv2"
   ]
  },
  {
   "cell_type": "markdown",
   "id": "0e918bc6",
   "metadata": {},
   "source": [
    "# Importing Video"
   ]
  },
  {
   "cell_type": "code",
   "execution_count": 2,
   "id": "d1e27c31",
   "metadata": {},
   "outputs": [],
   "source": [
    "# cap = cv2.VideoCapture('./Videos/Video 1.mp4')\n",
    "\n",
    "# Input from a webcam\n",
    "cap = cv2.VideoCapture(0)"
   ]
  },
  {
   "cell_type": "markdown",
   "id": "598250e4",
   "metadata": {},
   "source": [
    "# Displaying Video using cv2"
   ]
  },
  {
   "cell_type": "code",
   "execution_count": 3,
   "id": "b95bf284",
   "metadata": {},
   "outputs": [],
   "source": [
    "while True:\n",
    "    ret, frame = cap.read()\n",
    "    if ret==False: break\n",
    "    cv2.imshow(\"Video\", frame)\n",
    "    if cv2.waitKey(1)==ord('q'):\n",
    "        break\n",
    "cap.release()\n",
    "cv2.destroyAllWindows()"
   ]
  },
  {
   "cell_type": "code",
   "execution_count": null,
   "id": "56534597",
   "metadata": {},
   "outputs": [],
   "source": []
  }
 ],
 "metadata": {
  "kernelspec": {
   "display_name": "Python 3 (ipykernel)",
   "language": "python",
   "name": "python3"
  },
  "language_info": {
   "codemirror_mode": {
    "name": "ipython",
    "version": 3
   },
   "file_extension": ".py",
   "mimetype": "text/x-python",
   "name": "python",
   "nbconvert_exporter": "python",
   "pygments_lexer": "ipython3",
   "version": "3.9.10"
  }
 },
 "nbformat": 4,
 "nbformat_minor": 5
}
