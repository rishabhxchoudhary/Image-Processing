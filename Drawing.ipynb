{
 "cells": [
  {
   "cell_type": "code",
   "execution_count": 1,
   "id": "6e606538",
   "metadata": {},
   "outputs": [],
   "source": [
    "import numpy as np, cv2"
   ]
  },
  {
   "cell_type": "code",
   "execution_count": 2,
   "id": "ca0b51a9",
   "metadata": {},
   "outputs": [],
   "source": [
    "def display(win_name,img):\n",
    "    cv2.imshow(win_name,img)\n",
    "    cv2.waitKey(0)\n",
    "    cv2.destroyAllWindows()"
   ]
  },
  {
   "cell_type": "code",
   "execution_count": 3,
   "id": "93eb6366",
   "metadata": {},
   "outputs": [],
   "source": [
    "img = cv2.imread(\"./Images/Tree.jpg\")"
   ]
  },
  {
   "cell_type": "code",
   "execution_count": 4,
   "id": "d689cb2f",
   "metadata": {},
   "outputs": [],
   "source": [
    "green = (0,225,0)\n",
    "red = (0,0,225)\n",
    "blue = (225,0,0)"
   ]
  },
  {
   "cell_type": "markdown",
   "id": "21f200d8",
   "metadata": {},
   "source": [
    "# Drawing Lines"
   ]
  },
  {
   "cell_type": "code",
   "execution_count": 5,
   "id": "1ba7925e",
   "metadata": {},
   "outputs": [
    {
     "data": {
      "text/plain": [
       "(480, 771, 3)"
      ]
     },
     "execution_count": 5,
     "metadata": {},
     "output_type": "execute_result"
    }
   ],
   "source": [
    "img.shape"
   ]
  },
  {
   "cell_type": "code",
   "execution_count": 6,
   "id": "6af61502",
   "metadata": {},
   "outputs": [],
   "source": [
    "img_copy = img.copy()\n",
    "img_line = cv2.line(img_copy,(0,0),(771,480),green,2)"
   ]
  },
  {
   "cell_type": "code",
   "execution_count": 17,
   "id": "984a41d4",
   "metadata": {},
   "outputs": [],
   "source": [
    "display(\"Line\",img_line)"
   ]
  },
  {
   "cell_type": "markdown",
   "id": "d5c52289",
   "metadata": {},
   "source": [
    "# Drawing Rectangles"
   ]
  },
  {
   "cell_type": "code",
   "execution_count": 7,
   "id": "2cbc37d2",
   "metadata": {},
   "outputs": [],
   "source": [
    "img_copy = img.copy()\n",
    "img_rect = cv2.rectangle(img_copy,(100,100),(500,400),red,-1)"
   ]
  },
  {
   "cell_type": "code",
   "execution_count": 23,
   "id": "b54977ed",
   "metadata": {},
   "outputs": [],
   "source": [
    "display(\"Rectangle\",img_rect)"
   ]
  },
  {
   "cell_type": "markdown",
   "id": "cf9d0e8a",
   "metadata": {},
   "source": [
    "# Drawing Circles"
   ]
  },
  {
   "cell_type": "code",
   "execution_count": 8,
   "id": "915a2505",
   "metadata": {},
   "outputs": [],
   "source": [
    "center = (img.shape[1]//2,img.shape[0]//2)\n",
    "r = 100\n",
    "img_copy = img.copy()\n",
    "cv2.circle(img_copy,center,r,green,1)\n",
    "display(\"Circle\",img_copy)"
   ]
  }
 ],
 "metadata": {
  "kernelspec": {
   "display_name": "Python 3 (ipykernel)",
   "language": "python",
   "name": "python3"
  },
  "language_info": {
   "codemirror_mode": {
    "name": "ipython",
    "version": 3
   },
   "file_extension": ".py",
   "mimetype": "text/x-python",
   "name": "python",
   "nbconvert_exporter": "python",
   "pygments_lexer": "ipython3",
   "version": "3.9.10"
  }
 },
 "nbformat": 4,
 "nbformat_minor": 5
}
